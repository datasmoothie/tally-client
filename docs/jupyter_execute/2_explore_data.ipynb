{
 "cells": [
  {
   "cell_type": "markdown",
   "id": "203e6171",
   "metadata": {},
   "source": [
    "# Explore data"
   ]
  },
  {
   "cell_type": "code",
   "execution_count": 1,
   "id": "a2b7a2c6",
   "metadata": {
    "tags": [
     "remove-cell"
    ]
   },
   "outputs": [],
   "source": [
    "import os, sys\n",
    "sys.path.append(os.path.abspath('../../'))\n",
    "import tally\n",
    "dataset = tally.DataSet(api_key=os.environ.get('tally_api_key'))\n",
    "dataset.use_spss('./data/Example Data (A).sav')"
   ]
  },
  {
   "cell_type": "markdown",
   "id": "eee4e6c9",
   "metadata": {},
   "source": [
    " \n",
    "Once our data is loaded, we can explore what variables it has and the meta data for the variables. We assume that the data [has been loaded](../1_load_data) into a variable called `dataset`. For more information on the API endpoints used in these examples, refer to the [Tally API documentation](https://tally.datasmoothie.com).\n",
    "\n",
    "## `variables` - listing available variables by type \n",
    "\n",
    "Use the [variables](https://tally.datasmoothie.com/#tag/Data-Processing/operation/variables) method to get a list of variables. It returns a dictionary with the keys keys `single`, `delimited set`, `array`, `int`, `float`, `string`, `date`. These all have a list of strings that are the names of variables."
   ]
  },
  {
   "cell_type": "code",
   "execution_count": 2,
   "id": "9a25b42a",
   "metadata": {
    "tags": [
     "scroll-output"
    ]
   },
   "outputs": [
    {
     "data": {
      "text/plain": [
       "{'single': ['gender',\n",
       "  'locality',\n",
       "  'ethnicity',\n",
       "  'religion',\n",
       "  'q1',\n",
       "  'q2__1',\n",
       "  'q2__2',\n",
       "  'q2__3',\n",
       "  'q2__4',\n",
       "  'q2__5',\n",
       "  'q2__6',\n",
       "  'q2__97',\n",
       "  'q2__98',\n",
       "  'q2b',\n",
       "  'q3__1',\n",
       "  'q3__2',\n",
       "  'q3__3',\n",
       "  'q3__4',\n",
       "  'q3__5',\n",
       "  'q3__6',\n",
       "  'q3__7',\n",
       "  'q3__8',\n",
       "  'q3__97',\n",
       "  'q4',\n",
       "  'q5_1',\n",
       "  'q5_2',\n",
       "  'q5_3',\n",
       "  'q5_4',\n",
       "  'q5_5',\n",
       "  'q5_6',\n",
       "  'q6_1',\n",
       "  'q6_2',\n",
       "  'q6_3',\n",
       "  'q7_1',\n",
       "  'q7_2',\n",
       "  'q7_3',\n",
       "  'q7_4',\n",
       "  'q7_5',\n",
       "  'q7_6',\n",
       "  'q8__1',\n",
       "  'q8__2',\n",
       "  'q8__3',\n",
       "  'q8__4',\n",
       "  'q8__5',\n",
       "  'q8__96',\n",
       "  'q8__98',\n",
       "  'q9__1',\n",
       "  'q9__2',\n",
       "  'q9__3',\n",
       "  'q9__4',\n",
       "  'q9__96',\n",
       "  'q9__98',\n",
       "  'q9__99',\n",
       "  'Wave',\n",
       "  'q14r01c01',\n",
       "  'q14r01c02',\n",
       "  'q14r01c03',\n",
       "  'q14r02c01',\n",
       "  'q14r02c02',\n",
       "  'q14r02c03',\n",
       "  'q14r03c01',\n",
       "  'q14r03c02',\n",
       "  'q14r03c03',\n",
       "  'q14r04c01',\n",
       "  'q14r04c02',\n",
       "  'q14r04c03',\n",
       "  'q14r05c01',\n",
       "  'q14r05c02',\n",
       "  'q14r05c03',\n",
       "  'q14r06c01',\n",
       "  'q14r06c02',\n",
       "  'q14r06c03',\n",
       "  'q14r07c01',\n",
       "  'q14r07c02',\n",
       "  'q14r07c03',\n",
       "  'q14r08c01',\n",
       "  'q14r08c02',\n",
       "  'q14r08c03',\n",
       "  'q14r09c01',\n",
       "  'q14r09c02',\n",
       "  'q14r09c03',\n",
       "  'q14r10c01',\n",
       "  'q14r10c02',\n",
       "  'q14r10c03'],\n",
       " 'delimited set': [],\n",
       " 'array': [],\n",
       " 'int': [],\n",
       " 'float': ['record_number',\n",
       "  'unique_id',\n",
       "  'age',\n",
       "  'birth_day',\n",
       "  'birth_month',\n",
       "  'birth_year',\n",
       "  'weight_a',\n",
       "  'weight_b'],\n",
       " 'string': ['q8a', 'q9a', 'start_time', 'end_time', 'duration'],\n",
       " 'date': [],\n",
       " 'time': [],\n",
       " 'N/A': ['Unnamed: 0'],\n",
       " 'params': {}}"
      ]
     },
     "execution_count": 2,
     "metadata": {},
     "output_type": "execute_result"
    }
   ],
   "source": [
    "dataset.variables()"
   ]
  },
  {
   "cell_type": "markdown",
   "id": "494d8327",
   "metadata": {},
   "source": [
    "## `meta` - explore answer labels and codes \n",
    "\n",
    "Use the [meta](https://tally.datasmoothie.com/#tag/Data-Processing/operation/meta) method to explore answer codes and labels."
   ]
  },
  {
   "cell_type": "code",
   "execution_count": 3,
   "id": "7e159301",
   "metadata": {
    "tags": [
     "scroll-output"
    ]
   },
   "outputs": [
    {
     "data": {
      "text/html": [
       "<div>\n",
       "<style scoped>\n",
       "    .dataframe tbody tr th:only-of-type {\n",
       "        vertical-align: middle;\n",
       "    }\n",
       "\n",
       "    .dataframe tbody tr th {\n",
       "        vertical-align: top;\n",
       "    }\n",
       "\n",
       "    .dataframe thead th {\n",
       "        text-align: right;\n",
       "    }\n",
       "</style>\n",
       "<table border=\"1\" class=\"dataframe\">\n",
       "  <thead>\n",
       "    <tr style=\"text-align: right;\">\n",
       "      <th></th>\n",
       "      <th>codes</th>\n",
       "      <th>texts</th>\n",
       "      <th>missing</th>\n",
       "    </tr>\n",
       "  </thead>\n",
       "  <tbody>\n",
       "    <tr>\n",
       "      <th>1</th>\n",
       "      <td>1</td>\n",
       "      <td>Swimming</td>\n",
       "      <td>None</td>\n",
       "    </tr>\n",
       "    <tr>\n",
       "      <th>2</th>\n",
       "      <td>2</td>\n",
       "      <td>Running/jogging</td>\n",
       "      <td>None</td>\n",
       "    </tr>\n",
       "    <tr>\n",
       "      <th>3</th>\n",
       "      <td>3</td>\n",
       "      <td>Lifting weights</td>\n",
       "      <td>None</td>\n",
       "    </tr>\n",
       "    <tr>\n",
       "      <th>4</th>\n",
       "      <td>4</td>\n",
       "      <td>Aerobics</td>\n",
       "      <td>None</td>\n",
       "    </tr>\n",
       "    <tr>\n",
       "      <th>5</th>\n",
       "      <td>5</td>\n",
       "      <td>Yoga</td>\n",
       "      <td>None</td>\n",
       "    </tr>\n",
       "    <tr>\n",
       "      <th>6</th>\n",
       "      <td>6</td>\n",
       "      <td>Pilates</td>\n",
       "      <td>None</td>\n",
       "    </tr>\n",
       "    <tr>\n",
       "      <th>7</th>\n",
       "      <td>7</td>\n",
       "      <td>Football (soccer)</td>\n",
       "      <td>None</td>\n",
       "    </tr>\n",
       "    <tr>\n",
       "      <th>8</th>\n",
       "      <td>8</td>\n",
       "      <td>Basketball</td>\n",
       "      <td>None</td>\n",
       "    </tr>\n",
       "    <tr>\n",
       "      <th>9</th>\n",
       "      <td>9</td>\n",
       "      <td>Hockey</td>\n",
       "      <td>None</td>\n",
       "    </tr>\n",
       "    <tr>\n",
       "      <th>10</th>\n",
       "      <td>96</td>\n",
       "      <td>Other</td>\n",
       "      <td>None</td>\n",
       "    </tr>\n",
       "    <tr>\n",
       "      <th>11</th>\n",
       "      <td>98</td>\n",
       "      <td>I regularly change my fitness activity</td>\n",
       "      <td>None</td>\n",
       "    </tr>\n",
       "    <tr>\n",
       "      <th>12</th>\n",
       "      <td>99</td>\n",
       "      <td>Not applicable - I don't exercise</td>\n",
       "      <td>None</td>\n",
       "    </tr>\n",
       "  </tbody>\n",
       "</table>\n",
       "</div>"
      ],
      "text/plain": [
       "    codes                                   texts missing\n",
       "1       1                                Swimming    None\n",
       "2       2                         Running/jogging    None\n",
       "3       3                         Lifting weights    None\n",
       "4       4                                Aerobics    None\n",
       "5       5                                    Yoga    None\n",
       "6       6                                 Pilates    None\n",
       "7       7                       Football (soccer)    None\n",
       "8       8                              Basketball    None\n",
       "9       9                                  Hockey    None\n",
       "10     96                                   Other    None\n",
       "11     98  I regularly change my fitness activity    None\n",
       "12     99       Not applicable - I don't exercise    None"
      ]
     },
     "execution_count": 3,
     "metadata": {},
     "output_type": "execute_result"
    }
   ],
   "source": [
    "dataset.meta(variable='q1')"
   ]
  },
  {
   "cell_type": "markdown",
   "id": "c6625166",
   "metadata": {},
   "source": [
    "## Other methods to explore data\n",
    "\n",
    "Other methods to explore the data include **get_variable_text**, **find**, **values** and other methods in the [DataSet class](api_dataset)."
   ]
  },
  {
   "cell_type": "code",
   "execution_count": 4,
   "id": "8efc43d6",
   "metadata": {},
   "outputs": [
    {
     "data": {
      "text/plain": [
       "'How would you describe the areas in which you live?'"
      ]
     },
     "execution_count": 4,
     "metadata": {},
     "output_type": "execute_result"
    }
   ],
   "source": [
    "dataset.get_variable_text(name='locality')"
   ]
  },
  {
   "cell_type": "code",
   "execution_count": 5,
   "id": "a28ec132",
   "metadata": {
    "tags": [
     "scroll-output"
    ]
   },
   "outputs": [
    {
     "data": {
      "text/plain": [
       "{'variables': ['q2__1',\n",
       "  'q2__2',\n",
       "  'q2__3',\n",
       "  'q2__4',\n",
       "  'q2__5',\n",
       "  'q2__6',\n",
       "  'q2__97',\n",
       "  'q2__98',\n",
       "  'q2b'],\n",
       " 'params': {'str_tags': ['q2']}}"
      ]
     },
     "execution_count": 5,
     "metadata": {},
     "output_type": "execute_result"
    }
   ],
   "source": [
    "dataset.find(str_tags=['q2'])"
   ]
  },
  {
   "cell_type": "code",
   "execution_count": 6,
   "id": "6ccd70d5",
   "metadata": {},
   "outputs": [
    {
     "data": {
      "text/plain": [
       "{'values': {'1': 'CBD (central business district)',\n",
       "  '2': 'Urban',\n",
       "  '3': 'Suburban',\n",
       "  '4': 'Rural',\n",
       "  '5': 'Remote'},\n",
       " 'params': {'name': 'locality'}}"
      ]
     },
     "execution_count": 6,
     "metadata": {},
     "output_type": "execute_result"
    }
   ],
   "source": [
    "dataset.values(name='locality')"
   ]
  },
  {
   "cell_type": "markdown",
   "id": "507d4264",
   "metadata": {},
   "source": [
    "## Pandas dataframe\n",
    "\n",
    "The data can also be accessed as a pandas dataframe."
   ]
  },
  {
   "cell_type": "code",
   "execution_count": 7,
   "id": "7f76f408",
   "metadata": {
    "tags": [
     "scroll-output"
    ]
   },
   "outputs": [
    {
     "data": {
      "text/html": [
       "<div>\n",
       "<style scoped>\n",
       "    .dataframe tbody tr th:only-of-type {\n",
       "        vertical-align: middle;\n",
       "    }\n",
       "\n",
       "    .dataframe tbody tr th {\n",
       "        vertical-align: top;\n",
       "    }\n",
       "\n",
       "    .dataframe thead th {\n",
       "        text-align: right;\n",
       "    }\n",
       "</style>\n",
       "<table border=\"1\" class=\"dataframe\">\n",
       "  <thead>\n",
       "    <tr style=\"text-align: right;\">\n",
       "      <th></th>\n",
       "      <th>Unnamed: 0</th>\n",
       "      <th>record_number</th>\n",
       "      <th>unique_id</th>\n",
       "      <th>age</th>\n",
       "      <th>birth_day</th>\n",
       "      <th>birth_month</th>\n",
       "      <th>birth_year</th>\n",
       "      <th>gender</th>\n",
       "      <th>locality</th>\n",
       "      <th>ethnicity</th>\n",
       "      <th>...</th>\n",
       "      <th>q14r08c01</th>\n",
       "      <th>q14r08c02</th>\n",
       "      <th>q14r08c03</th>\n",
       "      <th>q14r09c01</th>\n",
       "      <th>q14r09c02</th>\n",
       "      <th>q14r09c03</th>\n",
       "      <th>q14r10c01</th>\n",
       "      <th>q14r10c02</th>\n",
       "      <th>q14r10c03</th>\n",
       "      <th>@1</th>\n",
       "    </tr>\n",
       "  </thead>\n",
       "  <tbody>\n",
       "    <tr>\n",
       "      <th>0</th>\n",
       "      <td>0</td>\n",
       "      <td>2.0</td>\n",
       "      <td>402891.0</td>\n",
       "      <td>22.0</td>\n",
       "      <td>25.0</td>\n",
       "      <td>3.0</td>\n",
       "      <td>1993.0</td>\n",
       "      <td>1.0</td>\n",
       "      <td>1.0</td>\n",
       "      <td>1.0</td>\n",
       "      <td>...</td>\n",
       "      <td>3.0</td>\n",
       "      <td>4.0</td>\n",
       "      <td>NaN</td>\n",
       "      <td>1.0</td>\n",
       "      <td>4.0</td>\n",
       "      <td>NaN</td>\n",
       "      <td>3.0</td>\n",
       "      <td>1.0</td>\n",
       "      <td>NaN</td>\n",
       "      <td>1.0</td>\n",
       "    </tr>\n",
       "    <tr>\n",
       "      <th>1</th>\n",
       "      <td>1</td>\n",
       "      <td>3.0</td>\n",
       "      <td>27541022.0</td>\n",
       "      <td>22.0</td>\n",
       "      <td>27.0</td>\n",
       "      <td>11.0</td>\n",
       "      <td>1993.0</td>\n",
       "      <td>2.0</td>\n",
       "      <td>3.0</td>\n",
       "      <td>1.0</td>\n",
       "      <td>...</td>\n",
       "      <td>4.0</td>\n",
       "      <td>NaN</td>\n",
       "      <td>NaN</td>\n",
       "      <td>4.0</td>\n",
       "      <td>NaN</td>\n",
       "      <td>NaN</td>\n",
       "      <td>2.0</td>\n",
       "      <td>NaN</td>\n",
       "      <td>NaN</td>\n",
       "      <td>1.0</td>\n",
       "    </tr>\n",
       "    <tr>\n",
       "      <th>2</th>\n",
       "      <td>2</td>\n",
       "      <td>4.0</td>\n",
       "      <td>335506.0</td>\n",
       "      <td>28.0</td>\n",
       "      <td>3.0</td>\n",
       "      <td>11.0</td>\n",
       "      <td>1987.0</td>\n",
       "      <td>1.0</td>\n",
       "      <td>2.0</td>\n",
       "      <td>1.0</td>\n",
       "      <td>...</td>\n",
       "      <td>2.0</td>\n",
       "      <td>1.0</td>\n",
       "      <td>NaN</td>\n",
       "      <td>3.0</td>\n",
       "      <td>2.0</td>\n",
       "      <td>NaN</td>\n",
       "      <td>2.0</td>\n",
       "      <td>1.0</td>\n",
       "      <td>NaN</td>\n",
       "      <td>1.0</td>\n",
       "    </tr>\n",
       "    <tr>\n",
       "      <th>3</th>\n",
       "      <td>3</td>\n",
       "      <td>5.0</td>\n",
       "      <td>22885610.0</td>\n",
       "      <td>31.0</td>\n",
       "      <td>11.0</td>\n",
       "      <td>9.0</td>\n",
       "      <td>1984.0</td>\n",
       "      <td>1.0</td>\n",
       "      <td>2.0</td>\n",
       "      <td>1.0</td>\n",
       "      <td>...</td>\n",
       "      <td>3.0</td>\n",
       "      <td>3.0</td>\n",
       "      <td>NaN</td>\n",
       "      <td>4.0</td>\n",
       "      <td>1.0</td>\n",
       "      <td>NaN</td>\n",
       "      <td>4.0</td>\n",
       "      <td>3.0</td>\n",
       "      <td>NaN</td>\n",
       "      <td>1.0</td>\n",
       "    </tr>\n",
       "    <tr>\n",
       "      <th>4</th>\n",
       "      <td>4</td>\n",
       "      <td>6.0</td>\n",
       "      <td>229122.0</td>\n",
       "      <td>38.0</td>\n",
       "      <td>24.0</td>\n",
       "      <td>4.0</td>\n",
       "      <td>1977.0</td>\n",
       "      <td>1.0</td>\n",
       "      <td>1.0</td>\n",
       "      <td>1.0</td>\n",
       "      <td>...</td>\n",
       "      <td>1.0</td>\n",
       "      <td>NaN</td>\n",
       "      <td>NaN</td>\n",
       "      <td>4.0</td>\n",
       "      <td>NaN</td>\n",
       "      <td>NaN</td>\n",
       "      <td>1.0</td>\n",
       "      <td>NaN</td>\n",
       "      <td>NaN</td>\n",
       "      <td>1.0</td>\n",
       "    </tr>\n",
       "  </tbody>\n",
       "</table>\n",
       "<p>5 rows × 99 columns</p>\n",
       "</div>"
      ],
      "text/plain": [
       "   Unnamed: 0  record_number   unique_id   age  birth_day  birth_month  \\\n",
       "0           0            2.0    402891.0  22.0       25.0          3.0   \n",
       "1           1            3.0  27541022.0  22.0       27.0         11.0   \n",
       "2           2            4.0    335506.0  28.0        3.0         11.0   \n",
       "3           3            5.0  22885610.0  31.0       11.0          9.0   \n",
       "4           4            6.0    229122.0  38.0       24.0          4.0   \n",
       "\n",
       "   birth_year  gender  locality  ethnicity  ...  q14r08c01  q14r08c02  \\\n",
       "0      1993.0     1.0       1.0        1.0  ...        3.0        4.0   \n",
       "1      1993.0     2.0       3.0        1.0  ...        4.0        NaN   \n",
       "2      1987.0     1.0       2.0        1.0  ...        2.0        1.0   \n",
       "3      1984.0     1.0       2.0        1.0  ...        3.0        3.0   \n",
       "4      1977.0     1.0       1.0        1.0  ...        1.0        NaN   \n",
       "\n",
       "   q14r08c03  q14r09c01  q14r09c02  q14r09c03  q14r10c01  q14r10c02  \\\n",
       "0        NaN        1.0        4.0        NaN        3.0        1.0   \n",
       "1        NaN        4.0        NaN        NaN        2.0        NaN   \n",
       "2        NaN        3.0        2.0        NaN        2.0        1.0   \n",
       "3        NaN        4.0        1.0        NaN        4.0        3.0   \n",
       "4        NaN        4.0        NaN        NaN        1.0        NaN   \n",
       "\n",
       "   q14r10c03   @1  \n",
       "0        NaN  1.0  \n",
       "1        NaN  1.0  \n",
       "2        NaN  1.0  \n",
       "3        NaN  1.0  \n",
       "4        NaN  1.0  \n",
       "\n",
       "[5 rows x 99 columns]"
      ]
     },
     "execution_count": 7,
     "metadata": {},
     "output_type": "execute_result"
    }
   ],
   "source": [
    "df = dataset.get_dataframe()\n",
    "df.head()"
   ]
  }
 ],
 "metadata": {
  "file_format": "mystnb",
  "kernelspec": {
   "display_name": "python3",
   "name": "python3"
  },
  "language_info": {
   "codemirror_mode": {
    "name": "ipython",
    "version": 3
   },
   "file_extension": ".py",
   "mimetype": "text/x-python",
   "name": "python",
   "nbconvert_exporter": "python",
   "pygments_lexer": "ipython3",
   "version": "3.8.16"
  },
  "source_map": [
   5,
   8,
   16,
   24,
   28,
   34,
   37,
   44,
   48,
   53,
   55,
   62
  ]
 },
 "nbformat": 4,
 "nbformat_minor": 5
}