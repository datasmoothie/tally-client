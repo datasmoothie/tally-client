{
 "cells": [
  {
   "cell_type": "markdown",
   "id": "38e28c2c",
   "metadata": {},
   "source": [
    "# Formatting bases in Excel\n",
    "\n",
    "The default format of the header and bases of a data as generic as possible. The text is black, there's room for the logo above the table, and the table name is at the top. To generate a table without any visual customisations, we can run:\n",
    "\n",
    "```\n",
    "ds = tally.DataSet(api_key=token, host=api_url, ssl=use_ssl)\n",
    "ds.use_spss('my_file.sav')\n",
    "\n",
    "build = tally.Build(name='Client A', default_dataset=ds)\n",
    "\n",
    "sheet = build.add_sheet(banner=['gender', 'locality'])\n",
    "sheet.add_table(stub={'x' : 'q14r01c01'}) \n",
    "sheet.add_table(stub={'x' : 'q14r02c01', 'stats':['mean']})\n",
    "\n",
    "build.save_excel('test_table_without_formatting.xlsx')\n",
    "```\n",
    "\n",
    "![Unformatted Excel table](_static/assets/images/documentation/screenshots/Excel-no-formatting.png)\n",
    "\n",
    "## Move base above table and give it a border\n",
    "We want to show the base before we show any data, and we also want a border around the base numbers. We also want to describe\n",
    "what our base was, so we change the base label.\n",
    "\n",
    "```{code-block}\n",
    ":emphasize-lines: 5,8,9,10\n",
    "ds = tally.DataSet(api_key=token, host=api_url, ssl=use_ssl)\n",
    "ds.use_spss('myfile.sav')\n",
    "\n",
    "build = tally.Build(name='Client A', subtitle=\"Datasmoothie\", default_dataset=ds)\n",
    "build.options.set_top_offset_after_header(1)\n",
    "\n",
    "sheet = build.add_sheet(banner=['gender', 'locality'])\n",
    "sheet.options.set_base_position('outside')\n",
    "sheet.options.set_format('base', {'bold':True, 'border': 1, 'border_color':'000000'})\n",
    "sheet.options.set_base_labels(\"All respondents\")\n",
    "\n",
    "sheet.add_table(stub={'x' : 'q14r01c01'}) \n",
    "sheet.add_table(stub={'x' : 'q14r02c01', 'stats':['mean']})\n",
    "sheet.add_table(stub={'x' : 'q14r03c01'})\n",
    "\n",
    "\n",
    "build.save_excel('test_table_with_header_formatting.xlsx')\n",
    "```\n",
    "\n",
    "![Formatted Excel table](_static/assets/images/documentation/screenshots/Excel-with-base-formatting.png)"
   ]
  }
 ],
 "metadata": {
  "file_format": "mystnb",
  "kernelspec": {
   "display_name": "python3",
   "name": "python3"
  },
  "source_map": [
   5
  ]
 },
 "nbformat": 4,
 "nbformat_minor": 5
}