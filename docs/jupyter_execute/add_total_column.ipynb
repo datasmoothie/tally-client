{
 "cells": [
  {
   "cell_type": "markdown",
   "id": "35b0586f",
   "metadata": {},
   "source": [
    "# Add bold column with totals\n",
    "\n",
    "By default, the Excel outputs are simple black text, without formatting. The most basic output can be generated like this:\n",
    "\n",
    "```\n",
    "ds = tally.DataSet(api_key=token, host=api_url, ssl=use_ssl)\n",
    "ds.use_spss('my_file.sav')\n",
    "\n",
    "build = tally.Build(name='Client A', default_dataset=ds)\n",
    "\n",
    "sheet = build.add_sheet(banner=['gender', 'locality'])\n",
    "sheet.add_table(stub={'x' : 'q14r01c01'}) \n",
    "sheet.add_table(stub={'x' : 'q14r02c01', 'stats':['mean']})\n",
    "\n",
    "build.save_excel('test_table_without_formatting.xlsx')\n",
    "```\n",
    "\n",
    "![Unformatted Excel table](_static/assets/images/documentation/screenshots/Excel-no-formatting-clean.png)\n",
    "\n",
    "## Add a total column and format it\n",
    "To add a total column to a data table, we need to add an option to the stub that defines the table. This can be one on a table-by-table bases\n",
    "\n",
    "```\n",
    "sheet.add_table(stub={'x' : 'q14r01c01', 'xtotal':True}) \n",
    "```\n",
    "\n",
    "But below we want to apply it to the entire sheet, so we add it to the sheet options. In both the sheet and build options, we can add\n",
    "extra options to the stub, to save us from adding it to every single table definition.\n",
    "\n",
    "Then, we use `set_column_format_for_type` and add a format for both the `base` type and `percentage` type so that the formatting will apply to our whole column.\n",
    "\n",
    "The result is an excel table with a total column in bold.\n",
    "\n",
    "```{code-block}\n",
    ":emphasize-lines: 7,8,9\n",
    "ds = tally.DataSet(api_key=token, host=api_url, ssl=use_ssl)\n",
    "ds.use_spss('mydata.sav')\n",
    "\n",
    "build = tally.Build(name='Client A', subtitle=\"Datasmoothie\", default_dataset=ds)\n",
    "\n",
    "sheet = build.add_sheet(banner=['gender', 'locality'])\n",
    "sheet.options.set_stub({'xtotal': True})\n",
    "sheet.options.set_column_format_for_type('base', 1, {\"bold\":True})\n",
    "sheet.options.set_column_format_for_type('percentage', 1, {\"bold\":True})\n",
    "\n",
    "sheet.add_table(stub={'x' : 'q14r01c01'}) \n",
    "sheet.add_table(stub={'x' : 'q14r02c01', 'stats':['mean']})\n",
    "sheet.add_table(stub={'x' : 'q14r03c01'})\n",
    "\n",
    "build.save_excel('test_table_with_totals.xlsx')\n",
    "```\n",
    "\n",
    "![Formatted Excel table](_static/assets/images/documentation/screenshots/Excel-table-with-totals.png)"
   ]
  }
 ],
 "metadata": {
  "file_format": "mystnb",
  "kernelspec": {
   "display_name": "python3",
   "name": "python3"
  },
  "source_map": [
   5
  ]
 },
 "nbformat": 4,
 "nbformat_minor": 5
}