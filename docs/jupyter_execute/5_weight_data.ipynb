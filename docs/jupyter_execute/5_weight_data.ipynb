{
 "cells": [
  {
   "cell_type": "markdown",
   "id": "7199f54a",
   "metadata": {},
   "source": [
    "# Weight data"
   ]
  },
  {
   "cell_type": "code",
   "execution_count": 1,
   "id": "f9ea5778",
   "metadata": {
    "tags": [
     "remove-cell"
    ]
   },
   "outputs": [],
   "source": [
    "import os, sys\n",
    "import pandas as pd\n",
    "sys.path.append(os.path.abspath('../../'))\n",
    "import tally\n",
    "dataset = tally.DataSet(api_key=os.environ.get('tally_api_key'))\n",
    "dataset.use_spss('./data/Example Data (A).sav')"
   ]
  },
  {
   "cell_type": "markdown",
   "id": "f349e697",
   "metadata": {},
   "source": [
    "## Introduction to RIM weighting (AKA Rake)\n",
    "\n",
    "Survey data is weighted to adjust for any biases introduced during the sampling process, such as non-response, oversampling certain groups, and demographic imbalances. Weighting increases the accuracy and reliability of the survey results.\n",
    "\n",
    "Tally implements the RIM algorithm (random iterative weighting), also known as RAKE. RIM is an iterative algorithm that involves generating a set of random weights for the survey data, and then using these weights to estimate population values. The estimated values are then compared to known population values, konwn as targets, and the weights are adjusted accordingly. This process is repeated until the estimated values converge with the known population values. \n",
    "\n",
    "![Multi-response question](_static/assets/images/documentation/diagrams/RAKE-diagram.png)\n",
    "\n",
    "## Create weight scheme with targets\n",
    "\n",
    "If census data shows us that in the wider population we are surveying, the distribution between gender, age groups and where people live is\n",
    "\n",
    "- Gender: 51% women, 49% men.\n",
    "- Age groups: 21% under 18 years, 29% 18 to 39 years, 27% aged 40 to 59 years, and 23% were aged 60 years and over\n",
    "- Location: 17.1% in rural areas, 82.9% in densely populated areas.\n",
    "\n",
    "We create a weighting schema with these targets."
   ]
  },
  {
   "cell_type": "code",
   "execution_count": 2,
   "id": "722a7b42",
   "metadata": {},
   "outputs": [],
   "source": [
    "target_scheme = {\n",
    "        'gender':{1:49, 2:51},\n",
    "        'age_cat':{1:21, 2:29, 3:27, 4:23},\n",
    "        'urban_rural':{1:82.9 , 2:17.1}\n",
    "}"
   ]
  },
  {
   "cell_type": "markdown",
   "id": "10042953",
   "metadata": {},
   "source": [
    "The census information we have doesn't match exactly with our data, we have more localities than two and we have a numerical variable for age, but we fix this by creating a variable with `DataSet.derive` from the localities and group the ages with `DataSet.band`."
   ]
  },
  {
   "cell_type": "code",
   "execution_count": 3,
   "id": "7941900f",
   "metadata": {},
   "outputs": [],
   "source": [
    "dataset.derive(name=\"urban_rural\", label=\"Urban/rural\", qtype=\"single\", cond_map=[\n",
    "        [1, \"People who live in urban and sub-urban settings\", {'locality': [1,2,3]}],\n",
    "        [2, \"People who live in rural and remote settings\", {'locality': [4,5]}]\n",
    "])\n",
    "\n",
    "dataset.band(name=\"age\", new_name=\"age_cat\", label=\"Urban/rural\", bands=[\n",
    "        [0,17], [18,39], [40,59], [60,150]\n",
    "])"
   ]
  },
  {
   "cell_type": "markdown",
   "id": "ef9cd2ae",
   "metadata": {},
   "source": [
    "## Running the algorithm\n",
    "\n",
    "We run the algorithm with `DataSet.weight`"
   ]
  },
  {
   "cell_type": "code",
   "execution_count": 4,
   "id": "23dbac52",
   "metadata": {},
   "outputs": [],
   "source": [
    "weight = dataset.weight(\n",
    "        name='Gender, urban, locality', \n",
    "        variable='weight_c', \n",
    "        unique_key='unique_id', \n",
    "        scheme=target_scheme\n",
    ")"
   ]
  },
  {
   "cell_type": "markdown",
   "id": "8f22035f",
   "metadata": {},
   "source": [
    "The algorithm runs the RIM weighting algorithm and creates a new variable, `weight_c`. We can run a crosstab to check whether it has worked."
   ]
  },
  {
   "cell_type": "code",
   "execution_count": 5,
   "id": "d96fd244",
   "metadata": {},
   "outputs": [
    {
     "data": {
      "text/html": [
       "<div>\n",
       "<style scoped>\n",
       "    .dataframe tbody tr th:only-of-type {\n",
       "        vertical-align: middle;\n",
       "    }\n",
       "\n",
       "    .dataframe tbody tr th {\n",
       "        vertical-align: top;\n",
       "    }\n",
       "\n",
       "    .dataframe thead tr th {\n",
       "        text-align: left;\n",
       "    }\n",
       "\n",
       "    .dataframe thead tr:last-of-type th {\n",
       "        text-align: right;\n",
       "    }\n",
       "</style>\n",
       "<table border=\"1\" class=\"dataframe\">\n",
       "  <thead>\n",
       "    <tr>\n",
       "      <th></th>\n",
       "      <th>Question</th>\n",
       "      <th colspan=\"2\" halign=\"left\">Total</th>\n",
       "    </tr>\n",
       "    <tr>\n",
       "      <th></th>\n",
       "      <th>Values</th>\n",
       "      <th>Unweighted</th>\n",
       "      <th>Weighted</th>\n",
       "    </tr>\n",
       "    <tr>\n",
       "      <th>Question</th>\n",
       "      <th>Values</th>\n",
       "      <th></th>\n",
       "      <th></th>\n",
       "    </tr>\n",
       "  </thead>\n",
       "  <tbody>\n",
       "    <tr>\n",
       "      <th rowspan=\"3\" valign=\"top\">What is your gender?</th>\n",
       "      <th>Base</th>\n",
       "      <td>8255.0</td>\n",
       "      <td>8255.0</td>\n",
       "    </tr>\n",
       "    <tr>\n",
       "      <th>Male</th>\n",
       "      <td>47.9</td>\n",
       "      <td>48.9</td>\n",
       "    </tr>\n",
       "    <tr>\n",
       "      <th>Female</th>\n",
       "      <td>52.1</td>\n",
       "      <td>51.1</td>\n",
       "    </tr>\n",
       "    <tr>\n",
       "      <th rowspan=\"3\" valign=\"top\">Urban/rural</th>\n",
       "      <th>Base</th>\n",
       "      <td>8078.0</td>\n",
       "      <td>8078.0</td>\n",
       "    </tr>\n",
       "    <tr>\n",
       "      <th>People who live in urban and sub-urban settings</th>\n",
       "      <td>80.8</td>\n",
       "      <td>82.9</td>\n",
       "    </tr>\n",
       "    <tr>\n",
       "      <th>People who live in rural and remote settings</th>\n",
       "      <td>19.2</td>\n",
       "      <td>17.1</td>\n",
       "    </tr>\n",
       "  </tbody>\n",
       "</table>\n",
       "</div>"
      ],
      "text/plain": [
       "Question                                                                  Total  \\\n",
       "Values                                                               Unweighted   \n",
       "Question             Values                                                       \n",
       "What is your gender? Base                                                8255.0   \n",
       "                     Male                                                  47.9   \n",
       "                     Female                                                52.1   \n",
       "Urban/rural          Base                                                8078.0   \n",
       "                     People who live in urban and sub-urban settings       80.8   \n",
       "                     People who live in rural and remote settings          19.2   \n",
       "\n",
       "Question                                                                       \n",
       "Values                                                               Weighted  \n",
       "Question             Values                                                    \n",
       "What is your gender? Base                                              8255.0  \n",
       "                     Male                                                48.9  \n",
       "                     Female                                              51.1  \n",
       "Urban/rural          Base                                              8078.0  \n",
       "                     People who live in urban and sub-urban settings     82.9  \n",
       "                     People who live in rural and remote settings        17.1  "
      ]
     },
     "execution_count": 5,
     "metadata": {},
     "output_type": "execute_result"
    }
   ],
   "source": [
    "weighted = dataset.crosstab(\n",
    "        x=['gender', 'urban_rural'], \n",
    "        ci=['c%'], \n",
    "        w='weight_c').rename(columns={\"Total\":\"Weighted\"}, level=1)\n",
    "unweighted = dataset.crosstab(\n",
    "        x=['gender', 'urban_rural'], \n",
    "        ci=['c%']).rename(columns={\"Total\":\"Unweighted\"}, level=1)\n",
    "pd.concat([unweighted, weighted], axis=1)"
   ]
  },
  {
   "cell_type": "markdown",
   "id": "6cfa5590",
   "metadata": {},
   "source": [
    "In the above table, we have used pandas to concat two dataframes, one with the `w` parameter set to `weight_c` and the other with no `w` parameter. The results show the unweighted results vs the weighted results and we can see our targets have been met.\n",
    "\n",
    "### The weight report - estimating weighting quality\n",
    "\n",
    "The `weight` method also returns a weight report, with important information."
   ]
  },
  {
   "cell_type": "code",
   "execution_count": 6,
   "id": "aafe319e",
   "metadata": {},
   "outputs": [
    {
     "data": {
      "text/plain": [
       "{'weights_scheme:_default_name_:None': {'Total: unweighted': 8255.0,\n",
       "  'Total: weighted': 8254.999999999849,\n",
       "  'Weighting efficiency': 89.16311809302186,\n",
       "  'Iterations required': 12.0,\n",
       "  'Mean weight factor': 0.9999999999999817,\n",
       "  'Minimum weight factor': 0.6748876536922374,\n",
       "  'Maximum weight factor': 1.5680001652614515,\n",
       "  'Weight factor ratio': 2.3233499037700454}}"
      ]
     },
     "execution_count": 6,
     "metadata": {},
     "output_type": "execute_result"
    }
   ],
   "source": [
    "weight['weight_report']"
   ]
  },
  {
   "cell_type": "markdown",
   "id": "8a1f6d26",
   "metadata": {},
   "source": [
    "The above report shows \n",
    "\n",
    "- Total: Weighted - the total base after weighting\n",
    "- Weighting efficiency - If the data needs to be weighted heavily up or down, the efficiency percentage will be low. The greater the percentage the more well balanced the sample.\n",
    "- Iterations required: How often was the algorithm run (as per the diagram above)\n",
    "- Mean weight factor: The mean value of the new weight column\n",
    "- Minimum weight factor: The respondent with the lowest weight (most over-represented)\n",
    "- Maximum weight factor: The respondent with the highest weight (most under-represented)\n",
    "- Weight factor ratio: Maximum factor/minimum factor"
   ]
  }
 ],
 "metadata": {
  "file_format": "mystnb",
  "kernelspec": {
   "display_name": "python3",
   "name": "python3"
  },
  "language_info": {
   "codemirror_mode": {
    "name": "ipython",
    "version": 3
   },
   "file_extension": ".py",
   "mimetype": "text/x-python",
   "name": "python",
   "nbconvert_exporter": "python",
   "pygments_lexer": "ipython3",
   "version": "3.8.16"
  },
  "source_map": [
   5,
   8,
   17,
   37,
   43,
   47,
   56,
   62,
   69,
   73,
   82,
   90,
   92
  ]
 },
 "nbformat": 4,
 "nbformat_minor": 5
}