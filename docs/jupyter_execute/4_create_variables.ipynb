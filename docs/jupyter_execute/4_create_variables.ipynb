{
 "cells": [
  {
   "cell_type": "markdown",
   "id": "ac7027cc",
   "metadata": {},
   "source": [
    "# Create variables"
   ]
  },
  {
   "cell_type": "code",
   "execution_count": 1,
   "id": "0f3cfde3",
   "metadata": {
    "tags": [
     "remove-cell"
    ]
   },
   "outputs": [],
   "source": [
    "import os, sys\n",
    "sys.path.append(os.path.abspath('../../'))\n",
    "import tally\n",
    "dataset = tally.DataSet(api_key=os.environ.get('tally_api_key'))\n",
    "dataset.use_spss('./data/Example Data (A).sav')"
   ]
  },
  {
   "cell_type": "markdown",
   "id": "caa59851",
   "metadata": {},
   "source": [
    "## derive - Creating new variables\n",
    "\n",
    "Let's say we've run a survey asking people about what sports they do. We want to create a new variable that designates people who do sports/excersize regularly and have their main fitness activity as aerobics, yoga or pilates. \n",
    "\n",
    "### Exploring the relevant codes\n",
    "\n",
    "In order to do this we look at the meta data for questions `q1` and `q2b` and find the codes for aerobics, yoga, pilates and regular sporties. These are 4, 5, 6 from `q1` and 1 for `q2b`."
   ]
  },
  {
   "cell_type": "code",
   "execution_count": 2,
   "id": "bf922f15",
   "metadata": {
    "tags": [
     "scroll-output"
    ]
   },
   "outputs": [
    {
     "data": {
      "text/html": [
       "<div>\n",
       "<style scoped>\n",
       "    .dataframe tbody tr th:only-of-type {\n",
       "        vertical-align: middle;\n",
       "    }\n",
       "\n",
       "    .dataframe tbody tr th {\n",
       "        vertical-align: top;\n",
       "    }\n",
       "\n",
       "    .dataframe thead th {\n",
       "        text-align: right;\n",
       "    }\n",
       "</style>\n",
       "<table border=\"1\" class=\"dataframe\">\n",
       "  <thead>\n",
       "    <tr style=\"text-align: right;\">\n",
       "      <th></th>\n",
       "      <th>codes</th>\n",
       "      <th>texts</th>\n",
       "      <th>missing</th>\n",
       "    </tr>\n",
       "  </thead>\n",
       "  <tbody>\n",
       "    <tr>\n",
       "      <th>1</th>\n",
       "      <td>1</td>\n",
       "      <td>Swimming</td>\n",
       "      <td>None</td>\n",
       "    </tr>\n",
       "    <tr>\n",
       "      <th>2</th>\n",
       "      <td>2</td>\n",
       "      <td>Running/jogging</td>\n",
       "      <td>None</td>\n",
       "    </tr>\n",
       "    <tr>\n",
       "      <th>3</th>\n",
       "      <td>3</td>\n",
       "      <td>Lifting weights</td>\n",
       "      <td>None</td>\n",
       "    </tr>\n",
       "    <tr>\n",
       "      <th>4</th>\n",
       "      <td>4</td>\n",
       "      <td>Aerobics</td>\n",
       "      <td>None</td>\n",
       "    </tr>\n",
       "    <tr>\n",
       "      <th>5</th>\n",
       "      <td>5</td>\n",
       "      <td>Yoga</td>\n",
       "      <td>None</td>\n",
       "    </tr>\n",
       "    <tr>\n",
       "      <th>6</th>\n",
       "      <td>6</td>\n",
       "      <td>Pilates</td>\n",
       "      <td>None</td>\n",
       "    </tr>\n",
       "    <tr>\n",
       "      <th>7</th>\n",
       "      <td>7</td>\n",
       "      <td>Football (soccer)</td>\n",
       "      <td>None</td>\n",
       "    </tr>\n",
       "    <tr>\n",
       "      <th>8</th>\n",
       "      <td>8</td>\n",
       "      <td>Basketball</td>\n",
       "      <td>None</td>\n",
       "    </tr>\n",
       "    <tr>\n",
       "      <th>9</th>\n",
       "      <td>9</td>\n",
       "      <td>Hockey</td>\n",
       "      <td>None</td>\n",
       "    </tr>\n",
       "    <tr>\n",
       "      <th>10</th>\n",
       "      <td>96</td>\n",
       "      <td>Other</td>\n",
       "      <td>None</td>\n",
       "    </tr>\n",
       "    <tr>\n",
       "      <th>11</th>\n",
       "      <td>98</td>\n",
       "      <td>I regularly change my fitness activity</td>\n",
       "      <td>None</td>\n",
       "    </tr>\n",
       "    <tr>\n",
       "      <th>12</th>\n",
       "      <td>99</td>\n",
       "      <td>Not applicable - I don't exercise</td>\n",
       "      <td>None</td>\n",
       "    </tr>\n",
       "  </tbody>\n",
       "</table>\n",
       "</div>"
      ],
      "text/plain": [
       "    codes                                   texts missing\n",
       "1       1                                Swimming    None\n",
       "2       2                         Running/jogging    None\n",
       "3       3                         Lifting weights    None\n",
       "4       4                                Aerobics    None\n",
       "5       5                                    Yoga    None\n",
       "6       6                                 Pilates    None\n",
       "7       7                       Football (soccer)    None\n",
       "8       8                              Basketball    None\n",
       "9       9                                  Hockey    None\n",
       "10     96                                   Other    None\n",
       "11     98  I regularly change my fitness activity    None\n",
       "12     99       Not applicable - I don't exercise    None"
      ]
     },
     "execution_count": 2,
     "metadata": {},
     "output_type": "execute_result"
    }
   ],
   "source": [
    "# what is your main sports activity?\n",
    "dataset.meta(variable='q1')"
   ]
  },
  {
   "cell_type": "code",
   "execution_count": 3,
   "id": "6cc88055",
   "metadata": {
    "tags": [
     "scroll-output"
    ]
   },
   "outputs": [
    {
     "data": {
      "text/html": [
       "<div>\n",
       "<style scoped>\n",
       "    .dataframe tbody tr th:only-of-type {\n",
       "        vertical-align: middle;\n",
       "    }\n",
       "\n",
       "    .dataframe tbody tr th {\n",
       "        vertical-align: top;\n",
       "    }\n",
       "\n",
       "    .dataframe thead th {\n",
       "        text-align: right;\n",
       "    }\n",
       "</style>\n",
       "<table border=\"1\" class=\"dataframe\">\n",
       "  <thead>\n",
       "    <tr style=\"text-align: right;\">\n",
       "      <th></th>\n",
       "      <th>codes</th>\n",
       "      <th>texts</th>\n",
       "      <th>missing</th>\n",
       "    </tr>\n",
       "  </thead>\n",
       "  <tbody>\n",
       "    <tr>\n",
       "      <th>1</th>\n",
       "      <td>1</td>\n",
       "      <td>Regularly</td>\n",
       "      <td>None</td>\n",
       "    </tr>\n",
       "    <tr>\n",
       "      <th>2</th>\n",
       "      <td>2</td>\n",
       "      <td>Irregularly</td>\n",
       "      <td>None</td>\n",
       "    </tr>\n",
       "    <tr>\n",
       "      <th>3</th>\n",
       "      <td>3</td>\n",
       "      <td>Never</td>\n",
       "      <td>None</td>\n",
       "    </tr>\n",
       "  </tbody>\n",
       "</table>\n",
       "</div>"
      ],
      "text/plain": [
       "   codes        texts missing\n",
       "1      1    Regularly    None\n",
       "2      2  Irregularly    None\n",
       "3      3        Never    None"
      ]
     },
     "execution_count": 3,
     "metadata": {},
     "output_type": "execute_result"
    }
   ],
   "source": [
    "# how regularly do you excersise\n",
    "dataset.meta(variable='q2b')"
   ]
  },
  {
   "cell_type": "markdown",
   "id": "da65e5b5",
   "metadata": {},
   "source": [
    "### Building the logic\n",
    "\n",
    "We now build the logic for our new variable. Codes 1 will represent \"regular sporties, mainly into yoga, aerobics or pilates\" and code 2 will include non sporties and those who don't have the above sports as their main sports. We use the Tally logical system as [documented in the API.](https://tally.datasmoothie.com/#section/Selecting-responses-with-logic-operators)"
   ]
  },
  {
   "cell_type": "code",
   "execution_count": 4,
   "id": "c8585b77",
   "metadata": {},
   "outputs": [],
   "source": [
    "cond_map = [\n",
    "    (\n",
    "        1, \n",
    "        \"Regular sporties, mainly into yoga, aerobics or pilates\", \n",
    "        { \"$intersection\": [{\"q1\":[4, 5, 6]}, {\"q2b\":[1]}] }\n",
    "    ),\n",
    "    (\n",
    "        2, \n",
    "        \"Non sporties, main activity not yoga, airobics, pilates\", \n",
    "        {\"$union\":\n",
    "            [\n",
    "                {\"$not_any\":{\"q2b\":[1]}},\n",
    "                {\"$not_any\":{\"q1\":[4,5,6]}}\n",
    "            ]\n",
    "        }\n",
    "    )\n",
    "]"
   ]
  },
  {
   "cell_type": "markdown",
   "id": "317b31e4",
   "metadata": {},
   "source": [
    "### Creating the derived variable\n",
    "\n",
    "Using our new logic, we create the variable with the derive method (for more details, [see the API on derive](https://tally.datasmoothie.com/#tag/Data-Processing/operation/derive))."
   ]
  },
  {
   "cell_type": "code",
   "execution_count": 5,
   "id": "54c1face",
   "metadata": {},
   "outputs": [],
   "source": [
    "dataset.derive(\n",
    "    name='active_aer_yoga_pilates', \n",
    "    label='Active sporties into aerobics, yoga or pilates', \n",
    "    cond_maps=cond_map, \n",
    "    qtype=\"single\"\n",
    ")"
   ]
  },
  {
   "cell_type": "markdown",
   "id": "8365092e",
   "metadata": {},
   "source": [
    "Once we have created the new variable, we can sanity check it."
   ]
  },
  {
   "cell_type": "code",
   "execution_count": 6,
   "id": "e63a485c",
   "metadata": {},
   "outputs": [
    {
     "data": {
      "text/html": [
       "<div>\n",
       "<style scoped>\n",
       "    .dataframe tbody tr th:only-of-type {\n",
       "        vertical-align: middle;\n",
       "    }\n",
       "\n",
       "    .dataframe tbody tr th {\n",
       "        vertical-align: top;\n",
       "    }\n",
       "\n",
       "    .dataframe thead tr th {\n",
       "        text-align: left;\n",
       "    }\n",
       "\n",
       "    .dataframe thead tr:last-of-type th {\n",
       "        text-align: right;\n",
       "    }\n",
       "</style>\n",
       "<table border=\"1\" class=\"dataframe\">\n",
       "  <thead>\n",
       "    <tr>\n",
       "      <th></th>\n",
       "      <th>Question</th>\n",
       "      <th>Total</th>\n",
       "    </tr>\n",
       "    <tr>\n",
       "      <th></th>\n",
       "      <th>Values</th>\n",
       "      <th>Total</th>\n",
       "    </tr>\n",
       "    <tr>\n",
       "      <th>Question</th>\n",
       "      <th>Values</th>\n",
       "      <th></th>\n",
       "    </tr>\n",
       "  </thead>\n",
       "  <tbody>\n",
       "    <tr>\n",
       "      <th rowspan=\"5\" valign=\"top\">Active sporties into aerobics, yoga or pilates</th>\n",
       "      <th>Base</th>\n",
       "      <td>8255.0</td>\n",
       "    </tr>\n",
       "    <tr>\n",
       "      <th>Regular sporties, mainly into yoga, aerobics or pilates</th>\n",
       "      <td>339.0</td>\n",
       "    </tr>\n",
       "    <tr>\n",
       "      <th></th>\n",
       "      <td>4.1</td>\n",
       "    </tr>\n",
       "    <tr>\n",
       "      <th>Non sporties, main activity not yoga, airobics, pilates</th>\n",
       "      <td>7916.0</td>\n",
       "    </tr>\n",
       "    <tr>\n",
       "      <th></th>\n",
       "      <td>95.9</td>\n",
       "    </tr>\n",
       "  </tbody>\n",
       "</table>\n",
       "</div>"
      ],
      "text/plain": [
       "Question                                                                                            Total\n",
       "Values                                                                                              Total\n",
       "Question                                       Values                                                    \n",
       "Active sporties into aerobics, yoga or pilates Base                                                8255.0\n",
       "                                               Regular sporties, mainly into yoga, aerobics or...   339.0\n",
       "                                                                                                      4.1\n",
       "                                               Non sporties, main activity not yoga, airobics,...  7916.0\n",
       "                                                                                                     95.9"
      ]
     },
     "execution_count": 6,
     "metadata": {},
     "output_type": "execute_result"
    }
   ],
   "source": [
    "dataset.crosstab(x='active_aer_yoga_pilates', ci=['counts', 'c%'])"
   ]
  }
 ],
 "metadata": {
  "file_format": "mystnb",
  "kernelspec": {
   "display_name": "python3",
   "name": "python3"
  },
  "language_info": {
   "codemirror_mode": {
    "name": "ipython",
    "version": 3
   },
   "file_extension": ".py",
   "mimetype": "text/x-python",
   "name": "python",
   "nbconvert_exporter": "python",
   "pygments_lexer": "ipython3",
   "version": "3.8.16"
  },
  "source_map": [
   5,
   7,
   15,
   26,
   33,
   37,
   43,
   61,
   67,
   74,
   78
  ]
 },
 "nbformat": 4,
 "nbformat_minor": 5
}